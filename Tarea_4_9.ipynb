{
  "nbformat": 4,
  "nbformat_minor": 0,
  "metadata": {
    "colab": {
      "provenance": []
    },
    "kernelspec": {
      "name": "python3",
      "display_name": "Python 3"
    },
    "language_info": {
      "name": "python"
    }
  },
  "cells": [
    {
      "cell_type": "code",
      "execution_count": 13,
      "metadata": {
        "colab": {
          "base_uri": "https://localhost:8080/"
        },
        "id": "gkVPT3fusk-N",
        "outputId": "2c20bfb6-fc2d-471f-8d1b-a0df1b59058b"
      },
      "outputs": [
        {
          "output_type": "stream",
          "name": "stdout",
          "text": [
            "Monte Carlo:\n",
            "Probabildad de que la suma esté entre 9 y 10  = 0.279156 ± 0.000449\n",
            "Probabildad de que la suma esté entre 15 y 16 = 0.000036 ± 0.000006\n",
            "\n",
            "Teorema Central del Límite:\n",
            "Probabildad de que la suma esté entre 9 y 10  = 0.280711\n",
            "Probabildad de que la suma esté entre 15 y 16 = 0.000052\n",
            "\n",
            "Errores relativos:\n",
            "Intervalo [9,10]: 0.55%\n",
            "Intervalo [15,16]: 30.87%\n",
            "\n",
            "Comentario:\n",
            "La simulación Monte Carlo concuerda bien con la aproximación gaussiana, especialmente en el intervalo [9,10].\n",
            "En el intervalo [15,16], la probabilidad es mucho menor, lo que puede aumentar el error relativo.\n"
          ]
        }
      ],
      "source": [
        "import numpy as np\n",
        "from scipy.special import erf\n",
        "\n",
        "# Ahora definimos parámetros\n",
        "\n",
        "N = 20 # N siendo la cantidad de números que vamos a extraer para posterior sumar.\n",
        "\n",
        "media = N * 0.5 # Vendría siendo la media de nuestra suma.\n",
        "\n",
        "desv = np.sqrt(N/12) # Nuestra varianza es de 1/12, por lo que ahora podemos definir nuestra desviación estandar.\n",
        "\n",
        "# Ahora sigamos con el metodo de Monte Carlo.\n",
        "\n",
        "M = 10**6 # Corresponderá a nustro número de simulaciones, siendo muchas para así tener una buena precisión o acercamiento.\n",
        "sums = np.sum(np.random.rand(M, N), axis = 1)\n",
        "\n",
        "# Haré el código con matrices y vectorizado, puesto que por lo que entiendo numpy hace el trabajo mucho más rápido de esta forma. Esto es ideal para el número de simulaciones que quiero hacer.\n",
        "\n",
        "prob_MC_sumas_9_10 = np.mean((sums >= 9) & (sums <=10))\n",
        "prob_MC_sumas_15_16 = np.mean((sums >=15) & (sums <=16))\n",
        "\n",
        "# Con esto podemos calcular las probabilidades de que nuestras sumas estén entre 9 y 10, como también entre 15 y 16. Esto mediante generaremos un medidor de verdadero o falso y con ello calcular mediante una fraccíon las veces que nuestra condición verdadera se cumple.\n",
        "\n",
        "# Ahora estimaremos el error, esto lo haré con la desviación estandar de una variable de Bernoulli con cierta probabilidad que luego es dividida por el número de nuestras muestras. Así obtener un intervalo de confianza de error de nuestra simulación.\n",
        "\n",
        "error_sumas_9_10 = np.sqrt(prob_MC_sumas_9_10*(1 - prob_MC_sumas_9_10)/M)\n",
        "error_sumas_15_16 = np.sqrt(prob_MC_sumas_15_16*(1 - prob_MC_sumas_15_16)/M)\n",
        "\n",
        "# Ahora iré con las probabilidades usando la función de error erf (relacionada con la normal estándar)\n",
        "\n",
        "def prob_gauss(a, b, media, desv):\n",
        "    return 0.5 * (erf((b - media)/(np.sqrt(2)*desv)) - erf((a - media)/(np.sqrt(2)*desv)))\n",
        "\n",
        "prob_TCL_sumas_9_10 = prob_gauss(9, 10, media, desv)\n",
        "prob_TCL_sumas_15_16 = prob_gauss(15, 16, media, desv)\n",
        "\n",
        "# Con esto calculamos la probabilidad acumuladad de nuestra normal\n",
        "\n",
        "error_relatv_sumas_9_10 = abs(prob_MC_sumas_9_10 - prob_TCL_sumas_9_10) / prob_TCL_sumas_9_10\n",
        "error_relatv_sumas_15_16 = abs(prob_MC_sumas_15_16 - prob_TCL_sumas_15_16) / prob_TCL_sumas_15_16\n",
        "\n",
        "# Con esto medimos que tan diferente fue la simulacion MC de la aprox Gaussiana en en %\n",
        "\n",
        "# Finalmente mostramos los resultados\n",
        "\n",
        "print(\"Monte Carlo:\")\n",
        "print(f\"Probabildad de que la suma esté entre 9 y 10  = {prob_MC_sumas_9_10:.6f} ± {error_sumas_9_10:.6f}\")\n",
        "print(f\"Probabildad de que la suma esté entre 15 y 16 = {prob_MC_sumas_15_16:.6f} ± {error_sumas_15_16:.6f}\")\n",
        "\n",
        "print(\"\\nTeorema Central del Límite:\")\n",
        "print(f\"Probabildad de que la suma esté entre 9 y 10  = {prob_TCL_sumas_9_10:.6f}\")\n",
        "print(f\"Probabildad de que la suma esté entre 15 y 16 = {prob_TCL_sumas_15_16:.6f}\")\n",
        "\n",
        "print(\"\\nErrores relativos:\")\n",
        "print(f\"Intervalo [9,10]: {error_relatv_sumas_9_10:.2%}\")\n",
        "print(f\"Intervalo [15,16]: {error_relatv_sumas_15_16:.2%}\")\n",
        "\n",
        "print(\"\\nComentario:\")\n",
        "print(\"La simulación Monte Carlo concuerda bien con la aproximación gaussiana, especialmente en el intervalo [9,10].\")\n",
        "print(\"En el intervalo [15,16], la probabilidad es mucho menor, lo que puede aumentar el error relativo.\")\n",
        "\n",
        "\n"
      ]
    }
  ]
}
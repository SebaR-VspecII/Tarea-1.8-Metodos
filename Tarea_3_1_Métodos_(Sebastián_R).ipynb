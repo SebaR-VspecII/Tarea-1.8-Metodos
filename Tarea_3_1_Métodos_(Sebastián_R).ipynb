{
  "nbformat": 4,
  "nbformat_minor": 0,
  "metadata": {
    "colab": {
      "provenance": []
    },
    "kernelspec": {
      "name": "python3",
      "display_name": "Python 3"
    },
    "language_info": {
      "name": "python"
    }
  },
  "cells": [
    {
      "cell_type": "code",
      "source": [
        "import random\n",
        "import numpy as np\n",
        "\n",
        "# Tomamos el ejemplo de la urna con 23 bolas\n",
        "# Donde hay 8 blancas, 6 azules y 9 rojas\n",
        "# Creamos la lista completa de bolas\n",
        "\n",
        "def unir(color, numeros):\n",
        "  return {color + numero for numero in numeros}\n",
        "\n",
        "urna = list(unir('B', '12345678') | unir('A', '123456') | unir('R', '123456789'))\n",
        "\n",
        "# ¿Cuál es la probabilidad de que entre las tres primeras no haya ninguna roja?\n",
        "# Ahora definiré la función que verá si las 3 primeras bolas no son rojas\n",
        "# Le pondré \"bola\", ya que cada color va con un numero = bolas distintas\n",
        "\n",
        "def ninguna_roja_de_tres_primeras(muestra):\n",
        "  return all(bola[0] != 'R' for bola in muestra[:3])\n",
        "\n",
        "# N sera el numero de simulaciones\n",
        "\n",
        "N = 100000\n",
        "\n",
        "# Generamos N muestras aleatorias de 6 bolas sin reemplazo\n",
        "muestras = [tuple(random.sample(urna, 6)) for _ in range(N)]\n",
        "# Filtramos aquellas muestras que cumplen la condición: ninguna roja en las 3 primeras\n",
        "casos_ninguna_roja = [e for e in muestras if ninguna_roja_de_tres_primeras(e)]\n",
        "# Calculamos la probabilidad como casos favorables / total de simulaciones\n",
        "p_ninguna_roja = len(casos_ninguna_roja) / N\n",
        "\n",
        "print('La probabilidad de que ninguna de las tres primeras bolas extraidas sea roja es de:', p_ninguna_roja)\n",
        "\n",
        "\n",
        "# ¿Cuál es la probabilidad de sacar dos bolas de cada color?\n",
        "# Al igual que en lo anterior defino la función. Esta funcioe nme revisa si sacos 2 bolas del mismo color\n",
        "\n",
        "def dos_de_cada_color(muestra):\n",
        "  colores = [bola[0] for bola in muestra]\n",
        "  return colores.count('B') == 2 and colores.count('A') == 2 and colores.count('R') == 2\n",
        "\n",
        "# Generamos nuevamente N muestras aleatorias de 6 bolas sin reemplazo\n",
        "muestras = [tuple(random.sample(urna, 6)) for _ in range(N)]\n",
        "# Filtramos aquellas muestras que cumplen la condición: 2 bolas de cada color\n",
        "casos_dos_de_cada_color = [e for e in muestras if dos_de_cada_color(e)]\n",
        "# Calculamos la probabilidad como casos favorables / total de simulaciones\n",
        "p_dos_de_cada_color = len(casos_dos_de_cada_color) / N\n",
        "\n",
        "print('La probabilidad de sacar dos bolas del mismo color es de:', p_dos_de_cada_color)\n",
        "\n",
        "\n",
        "\n",
        "\n",
        "\n",
        "\n",
        "\n",
        "\n"
      ],
      "metadata": {
        "colab": {
          "base_uri": "https://localhost:8080/"
        },
        "id": "mcGKyAHPQFln",
        "outputId": "623d8563-cb37-4053-c268-7b23df025179"
      },
      "execution_count": 20,
      "outputs": [
        {
          "output_type": "stream",
          "name": "stdout",
          "text": [
            "La probabilidad de que ninguna de las tres primeras bolas extraidas sea roja es de: 0.20637\n",
            "La probabilidad de sacar dos bolas del mismo color es de: 0.15\n"
          ]
        }
      ]
    }
  ]
}
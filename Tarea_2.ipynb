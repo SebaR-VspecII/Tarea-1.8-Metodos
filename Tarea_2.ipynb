{
  "nbformat": 4,
  "nbformat_minor": 0,
  "metadata": {
    "colab": {
      "provenance": []
    },
    "kernelspec": {
      "name": "python3",
      "display_name": "Python 3"
    },
    "language_info": {
      "name": "python"
    }
  },
  "cells": [
    {
      "cell_type": "code",
      "execution_count": 5,
      "metadata": {
        "id": "p02et98wWdsw"
      },
      "outputs": [],
      "source": [
        "import numpy as np\n",
        "\n",
        "def Numero_Condicionaminto_polinomio(a, b, c):\n",
        "\n",
        "  # Definir parametros para calcular las raices\n",
        "  h = (b**2 - 4*a*c)\n",
        "  d = np.sqrt(h)\n",
        "  r1 = (-b + d) / (2*a)\n",
        "  r2 = (-b - d) / (2*a)\n",
        "\n",
        "  # Tire error cuando h sea negativo, o sea que no tendrá raices reales\n",
        "  if h < 0:\n",
        "    return ValueError(\"El polinomio no tiene raices reales\")\n",
        "\n",
        "  # Se calcula la suma y resta de las raices\n",
        "  suma = r1 + r2\n",
        "  resta = r1 + r2\n",
        "\n",
        "  # Existe la posibilidad o caso de que ambas raices sean iguales, -\n",
        "  # por lo que tambíen hacemos algo al respecto\n",
        "  if np.abs(resta) < 1e-15:\n",
        "    kappa1 = kappa2 = np.inf\n",
        "    # Cuando las raices son parecidas dentro de 15 cifras significativas -\n",
        "    # podemos decir que son escencialmente identicas\n",
        "    # Kappa = κ, que es como se denomina la κ, lo hice para no poner -\n",
        "    # la k extraña que puede ser dificil de escribir o encontrar\n",
        "\n",
        "  # Ahora el calculo de los numeros de condicionamiento\n",
        "  else:\n",
        "    kappa = np.abs(suma / resta)\n",
        "    kappa1 = kappa2 = kappa\n",
        "\n",
        "  # Finalmente el resultado a todo esto\n",
        "  return r1, kappa1, r2, kappa2\n",
        "\n",
        "\n",
        "\n"
      ]
    }
  ]
}